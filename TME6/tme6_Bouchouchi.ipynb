{
 "cells": [
  {
   "cell_type": "markdown",
   "metadata": {},
   "source": [
    "# TME sur la classification de lettres manuscrites\n",
    "## Format des données\n",
    "Nous travaillerons sur des lettres manuscrites.\n",
    "Les données sont fournies au format pickle (le standard de sérialisation python, particulièrement convivial). Pour les charger : "
   ]
  },
  {
   "cell_type": "code",
   "execution_count": 1,
   "metadata": {},
   "outputs": [
    {
     "name": "stderr",
     "output_type": "stream",
     "text": [
      "/tmp/ipykernel_11895/2439924595.py:7: VisibleDeprecationWarning: Creating an ndarray from ragged nested sequences (which is a list-or-tuple of lists-or-tuples-or ndarrays with different lengths or shapes) is deprecated. If you meant to do this, you must specify 'dtype=object' when creating the ndarray.\n",
      "  X = np.array(data.get('letters')) # récupération des données sur les lettres\n"
     ]
    }
   ],
   "source": [
    "import numpy as np\n",
    "import pickle as pkl\n",
    "import matplotlib.pyplot as plt\n",
    "\n",
    "with open('ressources/lettres.pkl', 'rb') as f:\n",
    "    data = pkl.load(f, encoding='latin1') \n",
    "X = np.array(data.get('letters')) # récupération des données sur les lettres\n",
    "Y = np.array(data.get('labels')) # récupération des étiquettes associées "
   ]
  },
  {
   "cell_type": "markdown",
   "metadata": {},
   "source": [
    "Les données sont dans un format original: une lettre est en fait une série d'angles (exprimés en degrés). Un exemple: "
   ]
  },
  {
   "cell_type": "code",
   "execution_count": 2,
   "metadata": {},
   "outputs": [
    {
     "data": {
      "text/plain": [
       "array([ 36.214493, 347.719116, 322.088898, 312.230957, 314.851013,\n",
       "       315.487213, 313.556702, 326.534973, 141.288971, 167.606689,\n",
       "       199.321594, 217.911087, 226.443298, 235.002472, 252.354492,\n",
       "       270.045654, 291.665161, 350.934723,  17.892815,  20.281025,\n",
       "        28.207161,  43.883423,  53.459026])"
      ]
     },
     "execution_count": 2,
     "metadata": {},
     "output_type": "execute_result"
    }
   ],
   "source": [
    "X[0]"
   ]
  },
  {
   "cell_type": "markdown",
   "metadata": {},
   "source": [
    "Lors de l'acquisition, un stylo intelligent a pris des mesures régulièrement dans le temps: chaque période correspond à un segment de droite et le stylo a calculé l'angle entre deux segments consécutifs... C'est l'information qui vous est fournie.\n",
    "\n",
    "Pour afficher une lettre, il faut reconstruire la trajectoire enregistrée... C'est ce que fait la méthode ci-dessous: "
   ]
  },
  {
   "cell_type": "code",
   "execution_count": 3,
   "metadata": {},
   "outputs": [],
   "source": [
    "# affichage d'une lettre\n",
    "def tracerLettre(let):\n",
    "    a = -let*np.pi/180; # conversion en rad\n",
    "    coord = np.array([[0, 0]]); # point initial\n",
    "    for i in range(len(a)):\n",
    "        x = np.array([[1, 0]]);\n",
    "        rot = np.array([[np.cos(a[i]), -np.sin(a[i])],[ np.sin(a[i]),np.cos(a[i])]])\n",
    "        xr = x.dot(rot) # application de la rotation\n",
    "        coord = np.vstack((coord,xr+coord[-1,:]))\n",
    "    plt.figure()\n",
    "    plt.plot(coord[:,0],coord[:,1])\n",
    "    #plt.savefig(\"exlettre.png\")\n",
    "    return"
   ]
  },
  {
   "cell_type": "code",
   "execution_count": 4,
   "metadata": {},
   "outputs": [
    {
     "name": "stdout",
     "output_type": "stream",
     "text": [
      "a\n"
     ]
    },
    {
     "data": {
      "image/png": "[encoded data removed]",
      "text/plain": [
       "<Figure size 432x288 with 1 Axes>"
      ]
     },
     "metadata": {
      "needs_background": "light"
     },
     "output_type": "display_data"
    }
   ],
   "source": [
    "# il s'agit d'un 'a'\n",
    "tracerLettre(X[0])\n",
    "print(Y[0]) # vérification de l'étiquette"
   ]
  },
  {
   "cell_type": "markdown",
   "metadata": {},
   "source": [
    "## A. Apprentissage d'un modèle CM (max de vraisemblance)\n",
    "### A1. Discrétisation\n",
    "\n",
    "**1 état = 1 angle**\n",
    "\n",
    "Il est nécessaire de regrouper les angles en un nombre fini d'états (par exemple 20)\n",
    "- définir un `intervalle = 360 / n_etats` (18° si on choisit 20 états)\n",
    "- discrétiser tous les signaux à l'aide de la formule `np.floor(x / intervalle)`\n",
    "    - si n_etats = 20 alors [0, 18[ => 0, [18, 36[ => 1, etc...\n",
    "\n",
    "Donner le code de la méthode `discretise(x, d)` qui prend la base des signaux et retourne une base de signaux discrétisés."
   ]
  },
  {
   "cell_type": "code",
   "execution_count": 5,
   "metadata": {},
   "outputs": [
    {
     "name": "stdout",
     "output_type": "stream",
     "text": [
      "[0. 2. 2. 2. 2. 2. 2. 2. 1. 1. 1. 1. 1. 1. 2. 2. 2. 2. 0. 0. 0. 0. 0.]\n"
     ]
    }
   ],
   "source": [
    "def discretise(x, d):\n",
    "    \"\"\"\n",
    "    Regroupe les angles de la base x en un nombre d fini d'états.\n",
    "    param x : base des signaux\n",
    "    param d : nombre d'etats \n",
    "    return : base de signaux discrétisés (np.array)\n",
    "    \"\"\"\n",
    "    intervalle = 360/d\n",
    "    res = [ np.floor(x[i]/intervalle) for i in range(len(x)) ]\n",
    "    return np.array(res)\n",
    "\n",
    "base_signaux_discr = discretise(X[0],3)\n",
    "print(base_signaux_discr)"
   ]
  },
  {
   "cell_type": "markdown",
   "metadata": {},
   "source": [
    "**VALIDATION :** code du premier signal avec une discrétisation sur 3 états:\n",
    "```python\n",
    "array([ 0.,  2.,  2.,  2.,  2.,  2.,  2.,  2.,  1.,  1.,  1.,  1., 1., 1., 2., 2.,  2.,\n",
    "       2.,  0.,  0.,  0.,  0.,  0.])\n",
    "```"
   ]
  },
  {
   "cell_type": "markdown",
   "metadata": {},
   "source": [
    "### A2. Regrouper les indices des signaux par classe (pour faciliter l'apprentissage)"
   ]
  },
  {
   "cell_type": "code",
   "execution_count": 6,
   "metadata": {},
   "outputs": [],
   "source": [
    "def groupByLabel(y):\n",
    "    index = []\n",
    "    for i in np.unique(y): # pour toutes les classes\n",
    "        ind, = np.where(y == i)\n",
    "        index.append(ind)\n",
    "    return index"
   ]
  },
  {
   "cell_type": "markdown",
   "metadata": {},
   "source": [
    "Cette méthode produit simplement une structure type:\n",
    "```python\n",
    "[array([ 0,  1,  2,  3,  4,  5,  6,  7,  8,  9, 10]),\n",
    " array([11, 12, 13, 14, 15, 16, 17, 18, 19, 20, 21]),\n",
    " array([22, 23, 24, 25, 26, 27, 28, 29, 30, 31, 32]),\n",
    " array([33, 34, 35, 36, 37, 38, 39, 40, 41, 42, 43]),\n",
    " array([44, 45, 46, 47, 48, 49, 50, 51, 52, 53, 54]),\n",
    " array([55, 56, 57, 58, 59, 60, 61, 62, 63, 64, 65]),\n",
    " ...\n",
    "```\n",
    "Chaque ligne regroupe les indices de signaux correspondant à une classe. Il y a donc 11 exemples de 'a'."
   ]
  },
  {
   "cell_type": "code",
   "execution_count": 7,
   "metadata": {},
   "outputs": [],
   "source": [
    "#On regroupe les indices de signaux par classe \n",
    "#Par exemple les indices 0 à 10 sont des signaux classe 'a'\n",
    "classe_indice = groupByLabel(Y)"
   ]
  },
  {
   "cell_type": "markdown",
   "metadata": {},
   "source": [
    "### A3. Apprendre les modèles CM\n",
    "\n",
    "Soit {$X_C$} la base de signaux discrétisés correspondant à une classe {$C$} et {$d$} le nombre d'états. Donner le code de la fonction `learnMarkovModel(Xc, d)` qui retourne un tuple contenant Pi et A.\n",
    "\n",
    "Rappel:\n",
    "- Initialisation de \n",
    "```python\n",
    " A = np.zeros((d, d))\n",
    " Pi = np.zeros(d)```\n",
    "- Parcours de tous les signaux et incréments de A et Pi\n",
    "- Normalisation (un peu réfléchie pour éviter les divisions par 0)\n",
    "```python\n",
    "A = A / np.maximum(A.sum(1).reshape(d, 1), 1) # normalisation\n",
    "Pi = Pi / Pi.sum()```\n",
    "\n",
    "**Note** : la solution proposée pour gérer le cas des lignes entièrement à 0 est naïve et n'est pas totalement satisfaisante. Comprendre pourquoi. On proposera une solution améliorée plus loin dans le TME. "
   ]
  },
  {
   "cell_type": "code",
   "execution_count": 8,
   "metadata": {},
   "outputs": [
    {
     "name": "stdout",
     "output_type": "stream",
     "text": [
      "[0.36363636 0.         0.63636364]\n",
      "[[0.84444444 0.06666667 0.08888889]\n",
      " [0.         0.83333333 0.16666667]\n",
      " [0.11382114 0.06504065 0.82113821]]\n"
     ]
    }
   ],
   "source": [
    "def learnMarkovModel(Xc, d):\n",
    "    \"\"\"\n",
    "    Retourne le vecteur de probabilités initiales et la matrice de transition à partir d'une base de signaux discrétisés\n",
    "    param Xc : base de signaux discrétisés correspondant à une classe\n",
    "    param d : nombre d'états\n",
    "    return (Pi,A) : tuple (vecteur de probabilités, matrice de transition)\n",
    "    \"\"\"\n",
    "    #initialisation \n",
    "    A = np.zeros((d,d))\n",
    "    Pi = np.zeros(d)\n",
    "    \n",
    "    #Parcours de tous les signaux\n",
    "    for x in Xc:\n",
    "        x = x.astype(int) #doit convertir les x en int (utilise comme indice)\n",
    "        Pi[x[0]]+=1 #au depart valeur x[0]\n",
    "        for i in range(len(x)-1):\n",
    "            A[x[i],x[i+1]]+=1 #va de x[i] à x[i+1]\n",
    "        \n",
    "    #normalisation \n",
    "    A = A / np.maximum(A.sum(1).reshape(d, 1), 1)\n",
    "    Pi = Pi / Pi.sum()\n",
    "    \n",
    "    return (Pi, A)\n",
    "\n",
    "Xc = [discretise(X[i], 3) for i in classe_indice[0]]\n",
    "Pi, A = learnMarkovModel(Xc, 3)\n",
    "print(Pi)\n",
    "print(A)"
   ]
  },
  {
   "cell_type": "markdown",
   "metadata": {},
   "source": [
    "**Validation :** premier modèle avec une discrétisation sur 3 états :\n",
    "```python\n",
    "(array([ 0.36363636,  0.        ,  0.63636364]),\n",
    " array([[ 0.84444444,  0.06666667,  0.08888889],\n",
    "       [ 0.        ,  0.83333333,  0.16666667],\n",
    "       [ 0.11382114,  0.06504065,  0.82113821]]))\n",
    "```"
   ]
  },
  {
   "cell_type": "markdown",
   "metadata": {},
   "source": [
    "### A4. Stocker les modèles dans une liste\n",
    "\n",
    "Pour un usage ultérieur plus facile, on utilise le code suivant :"
   ]
  },
  {
   "cell_type": "code",
   "execution_count": 9,
   "metadata": {},
   "outputs": [
    {
     "name": "stderr",
     "output_type": "stream",
     "text": [
      "/tmp/ipykernel_11895/2062921248.py:10: VisibleDeprecationWarning: Creating an ndarray from ragged nested sequences (which is a list-or-tuple of lists-or-tuples-or ndarrays with different lengths or shapes) is deprecated. If you meant to do this, you must specify 'dtype=object' when creating the ndarray.\n",
      "  return np.array(res)\n"
     ]
    }
   ],
   "source": [
    "d = 20                  # paramètre de discrétisation\n",
    "Xd = discretise(X, d)    # application de la discrétisation\n",
    "index = groupByLabel(Y)  # groupement des signaux par classe\n",
    "models = []\n",
    "for cl in range(len(np.unique(Y))): # parcours de toutes les classes et optimisation des modèles\n",
    "    models.append(learnMarkovModel(Xd[index[cl]], d))"
   ]
  },
  {
   "cell_type": "code",
   "execution_count": 10,
   "metadata": {},
   "outputs": [
    {
     "name": "stderr",
     "output_type": "stream",
     "text": [
      "/tmp/ipykernel_11895/2062921248.py:10: VisibleDeprecationWarning: Creating an ndarray from ragged nested sequences (which is a list-or-tuple of lists-or-tuples-or ndarrays with different lengths or shapes) is deprecated. If you meant to do this, you must specify 'dtype=object' when creating the ndarray.\n",
      "  return np.array(res)\n"
     ]
    }
   ],
   "source": [
    "d3 = 3                 # paramètre de discrétisation\n",
    "Xd3 = discretise(X, d3)    # application de la discrétisation\n",
    "index3 = groupByLabel(Y)  # groupement des signaux par classe\n",
    "models3 = []\n",
    "for cl in range(len(np.unique(Y))): # parcours de toutes les classes et optimisation des modèles\n",
    "    models3.append(learnMarkovModel(Xd3[index3[cl]], d3))"
   ]
  },
  {
   "cell_type": "markdown",
   "metadata": {},
   "source": [
    "### A5. Distribution stationnaire\n",
    "\n",
    "La distribution stationnaire $\\mu$, pour un système ergodique, correspond à:\n",
    "\n",
    "- la distribution des états observés dans l'ensemble des données\n",
    "- la distribution obtenu après un grand nombre de passage dans $A$ à partir de n'importe quelle distribution ou état d'origine (une matrice de transition ergodique va nous permettre de converger)\n",
    "- la solution de l'équation de stabilité: $\\mu = \\mu A$\n",
    "\n",
    "Dans le cas de la lettre 'a' et d'une discrétisation en 3 états, calculer la distribution stationnaire par les deux première méthode et vérifier que vous obtenez des résultats similaires.\n",
    "\n",
    "**Note 1:** pour la marche aléatoire, vous construirez une boucle sur 100 iérations (borne sup) et vous sortirez dès que la somme des écarts (en absolu) entre $\\mu_t$ et $\\mu_{t+1}$ est inférieure à $10^{-3}$. Vous vérifierez ensuite que le système converge quelque soit l'état de départ (3 appel àla fonction) ou avec une initialisation aléatoire.\n",
    "\n",
    "**Note 2:** les deux approches, bien que reposant sur les mêmes données, vont donner des solutions différentes. En effet, il n'y a que peu d'observations et le premier calcul repose sur les états alors que le second repose sur les transitions. \n",
    "Afin de vérifier l'exactitude de votre code, vous pourrez revenir sur cette question en fin de sujet avec le protocole suivant:\n",
    "1. utiliser la matrice de transition de 'a' pour générer une séquence de longeur 100000\n",
    "1. faire les statistiques des états (à l'aide d'un ```Counter``` par exemple)\n",
    "1. vérifier la convergence sur de longues séquences"
   ]
  },
  {
   "cell_type": "code",
   "execution_count": 11,
   "metadata": {},
   "outputs": [
    {
     "name": "stdout",
     "output_type": "stream",
     "text": [
      "Cas avec un nombre maximal d'itérations : \n",
      "La distribution stationnaire est :  [0.3030303  0.28282828 0.41414141]\n",
      "[0.3030303  0.28282828 0.41414141]\n"
     ]
    }
   ],
   "source": [
    "\n",
    "def distribStationnaireIteMax(Pi, A, nbIteMax): \n",
    "    \"\"\"\n",
    "    Retourne la distribution stationnaire en se basant sur le fait qu'on converge au bout de nbIteMax itérations\n",
    "    param Pi : np.array dont la somme vaut 1 (vecteur de probabilités initiales)\n",
    "    param A : matrice de transition\n",
    "    return : distribution stationnaire\n",
    "    \"\"\"\n",
    "    mu=Pi\n",
    "    if(np.sum(mu)!=1):\n",
    "        print(\"La somme des probabilités initiales doit être égale à 1\")\n",
    "        return -1\n",
    "    nbIterations = 0\n",
    "    #tant que l'on n'a pas atteint nbIteMax itérations\n",
    "    while(nbIterations<nbIteMax):\n",
    "        mu = np.dot(mu,A)\n",
    "        nbIterations+=1\n",
    "    print(\"La distribution stationnaire est : \", mu)\n",
    "    return mu\n",
    "\n",
    "\n",
    "\n",
    "Pi,A = learnMarkovModel(Xc,3)\n",
    "\n",
    "print(\"Cas avec un nombre maximal d'itérations : \")\n",
    "print(distribStationnaireIteMax(Pi,A,100))\n",
    "\n"
   ]
  },
  {
   "cell_type": "code",
   "execution_count": 12,
   "metadata": {},
   "outputs": [
    {
     "name": "stdout",
     "output_type": "stream",
     "text": [
      "Cas où attend stabilité :\n",
      "La distribution stationnaire est :  [0.3030303  0.28282828 0.41414141]\n",
      "[0.3030303  0.28282828 0.41414141]\n"
     ]
    }
   ],
   "source": [
    "def distribStationnaire(Pi, A): \n",
    "    \"\"\"\n",
    "    Retourne la distribution stationnaire attend convergence\n",
    "    param Pi : np.array dont la somme vaut 1 (vecteur de probabilités initiales)\n",
    "    param A : matrice de transition (ergodique)\n",
    "    return : distribution stationnaire\n",
    "    \"\"\"\n",
    "    mu=Pi\n",
    "    if(np.sum(mu)!=1):\n",
    "        print(\"La somme des probabilités initiales doit être égale à 1\")\n",
    "        return -1\n",
    "    #tant que mu n'a pas convergé\n",
    "    while(not(np.allclose(mu, np.dot(mu,A), rtol=1e-3))):\n",
    "        mu = np.dot(mu,A)\n",
    "        nbIterations+=1\n",
    "    print(\"La distribution stationnaire est : \", mu)\n",
    "    return mu\n",
    "\n",
    "\n",
    "Pi,A = learnMarkovModel(Xc,3)\n",
    "print(\"Cas où attend stabilité :\")\n",
    "print(distribStationnaireIteMax(Pi,A,100))\n"
   ]
  },
  {
   "cell_type": "code",
   "execution_count": 13,
   "metadata": {},
   "outputs": [
    {
     "name": "stdout",
     "output_type": "stream",
     "text": [
      "Cas 1 : Pi = [0.36363636 0.         0.63636364]\n",
      "La distribution stationnaire est :  [0.30303034 0.28282827 0.41414139]\n",
      "[0.30303034 0.28282827 0.41414139]\n",
      "\n",
      "Cas 2 : Pi = [0.1 0.2 0.7]\n",
      "La distribution stationnaire est :  [0.30303034 0.28282827 0.41414139]\n",
      "[0.30303034 0.28282827 0.41414139]\n",
      "\n",
      "Cas 3 : Pi = [0.5 0.  0.5]\n",
      "La distribution stationnaire est :  [0.30303034 0.28282827 0.41414139]\n",
      "[0.30303034 0.28282827 0.41414139]\n",
      "\n",
      "Cas erreur : Pi = [0.1 0.2 0.6]\n",
      "La somme des probabilités initiales doit être égale à 1\n",
      "-1\n"
     ]
    }
   ],
   "source": [
    "#Cas général : considère qu'aura convergé au bout de 100 itérations ou avant \n",
    "\n",
    "def distribStationnaire(Pi, A): \n",
    "    \"\"\"\n",
    "    Retourne la distribution stationnaire \n",
    "    param Pi : np.array dont la somme vaut 1 (vecteur de probabilités initiales)\n",
    "    param A : matrice de transition\n",
    "    return : distribution stationnaire\n",
    "    \"\"\"\n",
    "    mu=Pi\n",
    "    if(np.sum(mu)!=1):\n",
    "        print(\"La somme des probabilités initiales doit être égale à 1\")\n",
    "        return -1\n",
    "    nbIterations = 0\n",
    "    nbIteMax = 100\n",
    "    #tant que mu n'a pas convergé ou que l'on n'a pas atteint nbIteMax itérations\n",
    "    while(not(np.allclose(mu, np.dot(mu,A), rtol=1e-10)) and nbIterations<nbIteMax):\n",
    "        mu = np.dot(mu,A)\n",
    "        nbIterations+=1\n",
    "    print(\"La distribution stationnaire est : \", mu)\n",
    "    return mu\n",
    "\n",
    "\n",
    "Pi,A = learnMarkovModel(Xc,3)\n",
    "print(\"Cas 1 : Pi =\", Pi)\n",
    "print(distribStationnaire(Pi,A))\n",
    "\n",
    "Pi = np.array([0.1, 0.2, 0.7])\n",
    "print(\"\\nCas 2 : Pi =\", Pi)\n",
    "print(distribStationnaire(Pi,A))\n",
    "\n",
    "Pi = np.array([0.5, 0., 0.5])\n",
    "print(\"\\nCas 3 : Pi =\", Pi)\n",
    "print(distribStationnaire(Pi,A))\n",
    "\n",
    "Pi = np.array([0.1, 0.2, 0.6])\n",
    "print(\"\\nCas erreur : Pi =\", Pi)\n",
    "print(distribStationnaire(Pi,A))"
   ]
  },
  {
   "cell_type": "markdown",
   "metadata": {},
   "source": [
    "##  B. Test (affectation dans les classes sur critère MV)\n",
    "### B1. (log)Probabilité d'une séquence dans un modèle\n",
    "\n",
    "Donner le code de la méthode `probaSequence(s,Pi,A)` qui retourne la log-probabilité d'une séquence `s` dans le modèle {$\\lambda=\\{Pi,A\\}$} "
   ]
  },
  {
   "cell_type": "code",
   "execution_count": 14,
   "metadata": {},
   "outputs": [
    {
     "name": "stdout",
     "output_type": "stream",
     "text": [
      "[-13.491086           -inf         -inf         -inf         -inf\n",
      "         -inf         -inf         -inf         -inf         -inf\n",
      "         -inf         -inf         -inf         -inf         -inf\n",
      "         -inf         -inf         -inf         -inf         -inf\n",
      "         -inf         -inf         -inf         -inf         -inf\n",
      " -12.48285678]\n"
     ]
    },
    {
     "name": "stderr",
     "output_type": "stream",
     "text": [
      "/tmp/ipykernel_11895/535433450.py:10: RuntimeWarning: divide by zero encountered in log\n",
      "  lp = np.log(Pi[s[0]])\n",
      "/tmp/ipykernel_11895/535433450.py:12: RuntimeWarning: divide by zero encountered in log\n",
      "  lp += np.log(A[s[i]][s[i+1]])\n"
     ]
    }
   ],
   "source": [
    "def probaSequence(s, Pi, A):\n",
    "    \"\"\"\n",
    "    Retourne la log-probabilité d'une séquence s dans le modèle {Pi,A}\n",
    "    param s : séquence\n",
    "    param Pi : vecteur de probabilités initiales\n",
    "    param A : matrice de transitions\n",
    "    return lp : log-probabilité\n",
    "    \"\"\"\n",
    "    s = s.astype(int)\n",
    "    lp = np.log(Pi[s[0]])\n",
    "    for i in range(len(s)-1):\n",
    "        lp += np.log(A[s[i]][s[i+1]])\n",
    "    return lp\n",
    "\n",
    "proba3 = np.array( [probaSequence(Xd3[0],m[0],m[1]) for m in models3] )\n",
    "print(proba3)"
   ]
  },
  {
   "cell_type": "markdown",
   "metadata": {},
   "source": [
    "**VALIDATION :** probabilité du premier signal dans les 26 modèles avec une discrétisation sur 3 états :\n",
    "```python\n",
    "array([-13.491086  ,         -inf,         -inf,         -inf,\n",
    "               -inf,         -inf,         -inf,         -inf,\n",
    "               -inf,         -inf,         -inf,         -inf,\n",
    "               -inf,         -inf,         -inf,         -inf,\n",
    "               -inf,         -inf,         -inf,         -inf,\n",
    "               -inf,         -inf,         -inf,         -inf,\n",
    "               -inf, -12.48285678])\n",
    "```\n",
    "\n",
    "- Ce signal est-il bien classé ?\n",
    "- D'où viennent tous les `-inf` ? "
   ]
  },
  {
   "cell_type": "markdown",
   "metadata": {},
   "source": [
    "<font color='blue'> \n",
    "    Non le signal n'est pas bien classé. En effet, ici le signal correspondant à la lettre 'a' mais ici on voit que la plus grande log-probabilité correspond correspond à la 26ème donc on le classerait comme une lettre 'z'. \n",
    "</font>  \n",
    "<font color='blue'> \n",
    "     Les -inf correspondent au fait de faire log(0).\n",
    "</font>"
   ]
  },
  {
   "cell_type": "markdown",
   "metadata": {},
   "source": [
    "### B2. Application de la méthode précédente pour tous les signaux et tous les modèles de lettres\n",
    "\n",
    "L'application se fait en une ligne de code si vous avez respecté les spécifications précédentes : "
   ]
  },
  {
   "cell_type": "code",
   "execution_count": 15,
   "metadata": {},
   "outputs": [
    {
     "name": "stderr",
     "output_type": "stream",
     "text": [
      "/tmp/ipykernel_11895/535433450.py:10: RuntimeWarning: divide by zero encountered in log\n",
      "  lp = np.log(Pi[s[0]])\n",
      "/tmp/ipykernel_11895/535433450.py:12: RuntimeWarning: divide by zero encountered in log\n",
      "  lp += np.log(A[s[i]][s[i+1]])\n"
     ]
    },
    {
     "name": "stdout",
     "output_type": "stream",
     "text": [
      "[[-27.99336982 -24.00913067 -31.55305134 ...         -inf         -inf\n",
      "          -inf]\n",
      " [        -inf         -inf         -inf ...         -inf         -inf\n",
      "          -inf]\n",
      " [        -inf         -inf         -inf ...         -inf         -inf\n",
      "          -inf]\n",
      " ...\n",
      " [        -inf         -inf         -inf ...         -inf         -inf\n",
      "          -inf]\n",
      " [        -inf         -inf         -inf ...         -inf         -inf\n",
      "          -inf]\n",
      " [        -inf         -inf         -inf ... -28.38500135 -26.85388545\n",
      "  -36.27352933]]\n"
     ]
    }
   ],
   "source": [
    "proba = np.array([[probaSequence(Xd[i], models[cl][0], models[cl][1]) for i in range(len(Xd))]\n",
    "                  for cl in range(len(np.unique(Y)))])\n",
    "print(proba)"
   ]
  },
  {
   "cell_type": "markdown",
   "metadata": {},
   "source": [
    "### B3. Evaluation des performances\n",
    "\n",
    "Pour l'évaluation, nous proposons l'approche suivante: "
   ]
  },
  {
   "cell_type": "code",
   "execution_count": 16,
   "metadata": {},
   "outputs": [
    {
     "data": {
      "text/plain": [
       "0.914179104477612"
      ]
     },
     "execution_count": 16,
     "metadata": {},
     "output_type": "execute_result"
    }
   ],
   "source": [
    "# calcul d'une version numérique des Y :\n",
    "Ynum = np.zeros(Y.shape)\n",
    "for num, char in enumerate(np.unique(Y)):\n",
    "    Ynum[Y == char] = num\n",
    "    \n",
    "# Calcul de la classe la plus probable :\n",
    "pred = proba.argmax(0) # max colonne par colonne\n",
    "\n",
    "# Calcul d'un pourcentage de bonne classification :\n",
    "np.where(pred != Ynum, 0.,1.).mean()\n"
   ]
  },
  {
   "cell_type": "markdown",
   "metadata": {},
   "source": [
    "**INDICE DE PERFORMANCE :** 91% de bonne classification avec 20 états, 69% avec 3 états"
   ]
  },
  {
   "cell_type": "markdown",
   "metadata": {},
   "source": [
    "## C. Biais d'évaluation, notion de sur-apprentissage\n",
    "\n",
    "Dans le protocole précédent, nous avons triché:\n",
    "- les données servent d'abord à apprendre les modèles...\n",
    "- puis nous nous servons des mêmes données pour tester les modèles ! Les performances sont forcément bonnes ! \n",
    "\n",
    "Afin de palier le problème, nous allons diviser en deux la base de données: une partie servira à l'apprentissage des modèles, l'autre à leur évaluation. Pour effectuer la division, nous fournissons le code suivant: "
   ]
  },
  {
   "cell_type": "code",
   "execution_count": 17,
   "metadata": {},
   "outputs": [],
   "source": [
    "# separation app/test, pc=ratio de points en apprentissage\n",
    "def separeTrainTest(y, pc):\n",
    "    indTrain = []\n",
    "    indTest = []\n",
    "    for i in np.unique(y): # pour toutes les classes\n",
    "        ind, = np.where(y == i)\n",
    "        n = len(ind)\n",
    "        indTrain.append(ind[np.random.permutation(n)][:int(np.floor(pc * n))])\n",
    "        indTest.append(np.setdiff1d(ind, indTrain[-1]))\n",
    "    return indTrain, indTest\n",
    "\n",
    "# exemple d'utilisation\n",
    "itrain, itest = separeTrainTest(Y, 0.8)"
   ]
  },
  {
   "cell_type": "markdown",
   "metadata": {},
   "source": [
    "dans `itrain`, nous obtenons les indices des signaux qui doivent servir en apprentissage pour chaque classe :"
   ]
  },
  {
   "cell_type": "code",
   "execution_count": 18,
   "metadata": {},
   "outputs": [
    {
     "data": {
      "text/plain": [
       "[array([ 9,  6,  1,  8,  5,  3, 10,  7]),\n",
       " array([18, 15, 19, 12, 16, 13, 14, 11]),\n",
       " array([23, 32, 26, 27, 28, 31, 25, 30]),\n",
       " array([33, 43, 40, 41, 37, 35, 38, 39]),\n",
       " array([48, 52, 44, 51, 45, 50, 46, 53]),\n",
       " array([63, 59, 58, 62, 64, 60, 65, 55]),\n",
       " array([68, 69, 72, 70, 66, 71, 73, 75]),\n",
       " array([78, 85, 82, 79, 87, 80, 77, 86]),\n",
       " array([89, 88, 91, 93, 94, 90, 92, 97]),\n",
       " array([103,  99, 100, 106, 107,  98, 104, 102]),\n",
       " array([116, 110, 109, 115, 112, 108, 111, 114]),\n",
       " array([127, 121, 120, 118, 123, 125, 126, 124]),\n",
       " array([131, 130, 135, 132, 133, 128, 136, 129]),\n",
       " array([139, 138, 144, 143, 141, 142, 140, 146]),\n",
       " array([149, 154, 150, 152, 153, 148, 156, 155]),\n",
       " array([162, 164, 158, 161, 163, 167, 166, 165]),\n",
       " array([170, 176, 174, 173, 168, 169, 172, 175]),\n",
       " array([183, 186, 187, 179, 184, 181, 182, 178]),\n",
       " array([188, 197, 194, 192, 193, 195, 196, 190]),\n",
       " array([199, 203, 207, 200, 206, 205, 204, 198]),\n",
       " array([210, 212, 208, 209, 216, 213, 211, 214]),\n",
       " array([218, 226, 220, 223, 222, 221, 224, 219]),\n",
       " array([236, 237, 234, 232, 228, 231, 230, 235]),\n",
       " array([246, 242, 244, 239, 238, 241, 243, 247]),\n",
       " array([253, 256, 251, 252, 249, 257, 254, 250]),\n",
       " array([265, 261, 258, 259, 263, 260, 267, 262])]"
      ]
     },
     "execution_count": 18,
     "metadata": {},
     "output_type": "execute_result"
    }
   ],
   "source": [
    "itrain"
   ]
  },
  {
   "cell_type": "markdown",
   "metadata": {},
   "source": [
    "**Note :** pour faciliter l'évaluation des modèles, vous aurez besoin de re-fusionner tous les indices d'apprentissage et de test. Cela se fait avec les lignes de code suivantes : "
   ]
  },
  {
   "cell_type": "code",
   "execution_count": 19,
   "metadata": {},
   "outputs": [],
   "source": [
    "ia = []\n",
    "for i in itrain:\n",
    "    ia += i.tolist()    \n",
    "it = []\n",
    "for i in itest:\n",
    "    it += i.tolist()"
   ]
  },
  {
   "cell_type": "markdown",
   "metadata": {},
   "source": [
    "**Note 2 :** Du fait de la permutation aléatoire, les résultats vont bouger (un peu) à chaque execution du programme. "
   ]
  },
  {
   "cell_type": "markdown",
   "metadata": {},
   "source": [
    "### C1. Questions importantes\n",
    "- Ré-utiliser les fonctions précédemment définies pour apprendre des modèles et les évaluer sans biais.\n",
    "- Calculer et analyser les résultats obtenus en apprentissage et en test\n",
    "- Etudier l'évolution des performances en fonction de la discrétisation"
   ]
  },
  {
   "cell_type": "code",
   "execution_count": 20,
   "metadata": {},
   "outputs": [
    {
     "name": "stderr",
     "output_type": "stream",
     "text": [
      "/tmp/ipykernel_11895/2062921248.py:10: VisibleDeprecationWarning: Creating an ndarray from ragged nested sequences (which is a list-or-tuple of lists-or-tuples-or ndarrays with different lengths or shapes) is deprecated. If you meant to do this, you must specify 'dtype=object' when creating the ndarray.\n",
      "  return np.array(res)\n",
      "/tmp/ipykernel_11895/535433450.py:10: RuntimeWarning: divide by zero encountered in log\n",
      "  lp = np.log(Pi[s[0]])\n",
      "/tmp/ipykernel_11895/535433450.py:12: RuntimeWarning: divide by zero encountered in log\n",
      "  lp += np.log(A[s[i]][s[i+1]])\n"
     ]
    },
    {
     "name": "stdout",
     "output_type": "stream",
     "text": [
      "Evaluation des performance pour l'ensemble d'apprentissage pour d=3 :  0.6394230769230769\n",
      "Evaluation des performance pour l'ensemble de test pour d=3 :  0.6\n",
      "\n",
      "Evaluation des performance pour l'ensemble d'apprentissage pour d=10 :  0.875\n",
      "Evaluation des performance pour l'ensemble de test pour d=10 :  0.5333333333333333\n",
      "\n",
      "Evaluation des performance pour l'ensemble d'apprentissage pour d=20 :  0.9278846153846154\n",
      "Evaluation des performance pour l'ensemble de test pour d=20 :  0.16666666666666666\n"
     ]
    }
   ],
   "source": [
    "def trainModele(itrain,Xd,Y,d, learn = learnMarkovModel):\n",
    "    \"\"\"\n",
    "    Apprentissage modèle\n",
    "    param itrain : indice d'apprentissage\n",
    "    param Xd : données sur les lettres discrétisées\n",
    "    param Y : étiquettes associées\n",
    "    param d : nombre de classes \n",
    "    param learn : par défaut learnMarkovModel \n",
    "    return model : le modèle \n",
    "    \"\"\"\n",
    "    model = []\n",
    "    for cl in range(len(np.unique(Y))): # parcours de toutes les classes et optimisation des modèles\n",
    "        model.append(learn(Xd[itrain[cl]], d))\n",
    "    return model\n",
    "\n",
    "def testModele(itest,itrain,X,Y,d, learn = learnMarkovModel):\n",
    "    \"\"\"\n",
    "    Evaluer le modèle\n",
    "    param itest : indice de test\n",
    "    param itrain : indice d'apprentissage\n",
    "    param X : données sur les lettres\n",
    "    param Y : étiquettes associées\n",
    "    param d : nombre de classes \n",
    "    param learn : par défaut learnMarkovModel \n",
    "    return perfTrain, perfTest : le modèle \n",
    "    \"\"\"\n",
    "    Xd = discretise(X,d)\n",
    "    \n",
    "    #apprentissage\n",
    "    model = trainModele(itrain,Xd,Y,d,learn)\n",
    "    \n",
    "    proba = np.array([[probaSequence(Xd[i], model[cl][0], model[cl][1]) for i in range(len(Xd))] for cl in range(len(np.unique(Y)))])    \n",
    "    pred = proba.argmax(0)\n",
    "    \n",
    "    \n",
    "    # calcul d'une version numérique des Y :\n",
    "    Ynum = np.zeros(Y.shape)\n",
    "    for num, char in enumerate(np.unique(Y)):\n",
    "        Ynum[Y == char] = num\n",
    "\n",
    "\n",
    "    # Calcul d'un pourcentage de bonne classification :\n",
    "    perfTrain = np.where(pred[ia] != Ynum[ia], 0.,1.).mean()\n",
    "    perfTest = np.where(pred[it] != Ynum[it], 0.,1.).mean()\n",
    "    \n",
    "    return perfTrain, perfTest\n",
    "\n",
    "\n",
    "perfTrain, perfTest = testModele(itest, itrain, X, Y, 3)\n",
    "print(\"Evaluation des performance pour l'ensemble d'apprentissage pour d=3 : \", perfTrain)\n",
    "print(\"Evaluation des performance pour l'ensemble de test pour d=3 : \", perfTest)\n",
    "\n",
    "perfTrain, perfTest = testModele(itest, itrain, X, Y, 10)\n",
    "print(\"\\nEvaluation des performance pour l'ensemble d'apprentissage pour d=10 : \", perfTrain)\n",
    "print(\"Evaluation des performance pour l'ensemble de test pour d=10 : \", perfTest)\n",
    "\n",
    "perfTrain, perfTest = testModele(itest, itrain, X, Y, 20)\n",
    "print(\"\\nEvaluation des performance pour l'ensemble d'apprentissage pour d=20 : \", perfTrain)\n",
    "print(\"Evaluation des performance pour l'ensemble de test pour d=20 : \", perfTest)"
   ]
  },
  {
   "cell_type": "markdown",
   "metadata": {},
   "source": [
    "### C2. Lutter contre le sur-apprentissage\n",
    "Cette base de données met en lumière le phénomène de sur-apprentissage : il y a peu de données et dès que le nombre d'états augmente, il y a trop peu d'exemple pour estimer correctement les matrices {$A, \\pi$}. De nombreuses cases sont donc à 0, voire des lignes entières (d'où la sécurisation du code pour la normalisation des matrices stochastiques).\n",
    "\n",
    "Ces 0 sont particulièrement discriminants: considérant la classe {$c$}, ils permettent d'éliminer de cette classe tout signal présentant cette caractéristique. Cette règle est trop forte compte tenu de la taille de la base d'apprentissage. Nous proposons une astuce pour palier cette faiblesse : lors du comptage, initialiser les matrices {$A, \\pi$} avec ones au lieu de zeros . On fait semblant d'avoir observer une transition de chaque type avant même le début du comptage.\n",
    "\n",
    "Comparer les performances en test."
   ]
  },
  {
   "cell_type": "code",
   "execution_count": 21,
   "metadata": {},
   "outputs": [
    {
     "name": "stderr",
     "output_type": "stream",
     "text": [
      "/tmp/ipykernel_11895/2062921248.py:10: VisibleDeprecationWarning: Creating an ndarray from ragged nested sequences (which is a list-or-tuple of lists-or-tuples-or ndarrays with different lengths or shapes) is deprecated. If you meant to do this, you must specify 'dtype=object' when creating the ndarray.\n",
      "  return np.array(res)\n"
     ]
    },
    {
     "name": "stdout",
     "output_type": "stream",
     "text": [
      "Evaluation des performance pour l'ensemble d'apprentissage pour d=3 :  0.5769230769230769\n",
      "Evaluation des performance pour l'ensemble de test pour d=3 :  0.48333333333333334\n",
      "\n",
      "Evaluation des performance pour l'ensemble d'apprentissage pour d=10 :  0.8028846153846154\n",
      "Evaluation des performance pour l'ensemble de test pour d=10 :  0.6166666666666667\n",
      "\n",
      "Evaluation des performance pour l'ensemble d'apprentissage pour d=20 :  0.8173076923076923\n",
      "Evaluation des performance pour l'ensemble de test pour d=20 :  0.5833333333333334\n"
     ]
    }
   ],
   "source": [
    "# Nouvelle fonction faisant semblant d'observer une transition de chaque type avant même le début du comptage \n",
    "# On initialise donc A et pi à 1 et non 0\n",
    "\n",
    "def learnMarkovModel2(Xc, d):\n",
    "    \"\"\"\n",
    "    Retourne le vecteur de probabilités initiales et la matrice de transition à partir d'une base de signaux discrétisés\n",
    "    Version initialisant Pi et A avec des 1\n",
    "    param Xc : base de signaux discrétisés correspondant à une classe\n",
    "    param d : nombre d'états\n",
    "    return (Pi,A) : tuple (vecteur de probabilités, matrice de transition)\n",
    "    \"\"\"\n",
    "    #initialisation \n",
    "    A = np.ones((d,d))\n",
    "    Pi = np.ones(d)\n",
    "    \n",
    "    #Parcours de tous les signaux\n",
    "    for x in Xc:\n",
    "        x = x.astype(int) #doit convertir les x en int (utilise comme indice)\n",
    "        Pi[x[0]]+=1 #au depart valeur x[0]\n",
    "        for i in range(len(x)-1):\n",
    "            A[x[i],x[i+1]]+=1 #va de x[i] à x[i+1]\n",
    "        \n",
    "    #normalisation \n",
    "    A = A / np.maximum(A.sum(1).reshape(d, 1), 1)\n",
    "    Pi = Pi / Pi.sum()\n",
    "    \n",
    "    return (Pi, A)\n",
    "\n",
    "\n",
    "\n",
    "perfTrain, perfTest = testModele(itest, itrain, X, Y, 3, learnMarkovModel2)\n",
    "print(\"Evaluation des performance pour l'ensemble d'apprentissage pour d=3 : \", perfTrain)\n",
    "print(\"Evaluation des performance pour l'ensemble de test pour d=3 : \", perfTest)\n",
    "\n",
    "perfTrain, perfTest = testModele(itest, itrain, X, Y, 10, learnMarkovModel2)\n",
    "print(\"\\nEvaluation des performance pour l'ensemble d'apprentissage pour d=10 : \", perfTrain)\n",
    "print(\"Evaluation des performance pour l'ensemble de test pour d=10 : \", perfTest)\n",
    "\n",
    "perfTrain, perfTest = testModele(itest, itrain, X, Y, 20, learnMarkovModel2)\n",
    "print(\"\\nEvaluation des performance pour l'ensemble d'apprentissage pour d=20 : \", perfTrain)\n",
    "print(\"Evaluation des performance pour l'ensemble de test pour d=20 : \", perfTest)"
   ]
  },
  {
   "cell_type": "markdown",
   "metadata": {},
   "source": [
    "## D. Evaluation qualitative\n",
    "\n",
    "Nous nous demandons maintenant où se trouvent les erreurs que nous avons commises...\n",
    "\n",
    "Calcul de la matrice de confusion: pour chaque échantillon de test, nous avons une prédiction (issue du modèle) et une vérité terrain (la vraie étiquette). En posant Nc le nombre de classes, la matrice de confusion est une matrice (Nc x Nc) où nous comptons le nombre d'échantillon de test dans chaque catégorie :\n",
    "\n",
    "- Initialisation à 0 : "
   ]
  },
  {
   "cell_type": "code",
   "execution_count": 22,
   "metadata": {},
   "outputs": [],
   "source": [
    "conf = np.zeros((26,26))"
   ]
  },
  {
   "cell_type": "markdown",
   "metadata": {},
   "source": [
    "- Pour chaque échantillon, incrément de la case (prediction, vérité)"
   ]
  },
  {
   "cell_type": "code",
   "execution_count": 23,
   "metadata": {},
   "outputs": [],
   "source": [
    "\n",
    "for i in it :\n",
    "    prediction = pred[i]\n",
    "    verite = Ynum[i].astype(int)\n",
    "    conf[prediction, verite] +=1\n"
   ]
  },
  {
   "cell_type": "markdown",
   "metadata": {},
   "source": [
    "- Tracé de la matrice : "
   ]
  },
  {
   "cell_type": "code",
   "execution_count": 24,
   "metadata": {},
   "outputs": [
    {
     "data": {
      "text/plain": [
       "Text(0, 0.5, 'Prédiction')"
      ]
     },
     "execution_count": 24,
     "metadata": {},
     "output_type": "execute_result"
    },
    {
     "data": {
      "image/png": "[encoded data removed]",
      "text/plain": [
       "<Figure size 432x288 with 2 Axes>"
      ]
     },
     "metadata": {
      "needs_background": "light"
     },
     "output_type": "display_data"
    }
   ],
   "source": [
    "plt.figure()\n",
    "plt.imshow(conf, interpolation = 'nearest')\n",
    "plt.colorbar()\n",
    "plt.xticks(np.arange(26), np.unique(Y))\n",
    "plt.yticks(np.arange(26), np.unique(Y))\n",
    "plt.xlabel(u'Vérité terrain')\n",
    "plt.ylabel(u'Prédiction')\n",
    "#plt.savefig(\"mat_conf_lettres.png\")"
   ]
  },
  {
   "cell_type": "markdown",
   "metadata": {},
   "source": [
    "## E. Modèle génératif\n",
    "\n",
    "Utiliser les modèles appris pour générer de nouvelles lettres manuscrites.\n",
    "\n",
    "### E1. Tirage selon une loi de probabilité discrète\n",
    "\n",
    "- faire la somme cumulée de la loi {$sc$}\n",
    "- tirer un nombre aléatoire {$t$} entre 0 et 1\n",
    "- trouver la première valeur de {$sc$} qui est supérieure à {$t$}\n",
    "- retourner cet état \n",
    "\n",
    "**Note :** comme vu en cours, tout repose sur la somme cumulée (notée ici `sc$`, calculable en appelant `np.cumsum`. Sur un exemple: la loi `V = [0.2, 0.4, 0.3, 0.1]` a pour somme cumulée `V.cumsum() == [0.2,  0.6,  0.9,  1.0]`\n",
    "\n",
    "### E2. Génération d'une séquence de longueur N\n",
    "\n",
    "- tirer un état {$s_0$} selon Pi\n",
    "- tant que la longueur n'est pas atteinte :\n",
    "  - tirer un état {$s_{t+1}$} selon {$A[s_{t}]$} "
   ]
  },
  {
   "cell_type": "code",
   "execution_count": 25,
   "metadata": {},
   "outputs": [
    {
     "name": "stdout",
     "output_type": "stream",
     "text": [
      "[]\n",
      "[2]\n",
      "[0, 0]\n",
      "[2, 2, 2, 2, 2, 2, 2, 2, 2, 1, 2, 2, 2, 0, 0]\n"
     ]
    }
   ],
   "source": [
    "import random as random\n",
    "def generate(Pi,A,N):\n",
    "    \"\"\"\n",
    "    Génération d'une séquence de longueur N\n",
    "    param Pi : vecteur de probabilités initiales\n",
    "    param A : matruce de trabc\n",
    "    param N : longueur de la séquence\n",
    "    return S: séquence de longueur N\n",
    "    \"\"\"\n",
    "    if(N==0):\n",
    "        return []\n",
    "    \n",
    "    S = []\n",
    "    i = random.random()\n",
    "    #Pi.cumsum() la somme cumulée\n",
    "    #np.where(i > Pi.cumsum())[0] retourne la liste des indices de Pi.cumsum() > i\n",
    "    #s'il y en a 0 alors l'état sera l'état 0, s'il y en a un l'état sera le premier...\n",
    "    S.append( len(np.where(i > Pi.cumsum())[0]) )\n",
    "    \n",
    "    #On veut une séquence de taille N (il reste N-1 états à ajouter)\n",
    "    while(N>1): \n",
    "        i = random.random()\n",
    "        #on récupère le vecteur de probabilités de transition correspondant au dernier état de la séquence\n",
    "        p = A[ S[-1], : ] \n",
    "        etat = len(np.where(i > p.cumsum())[0]) \n",
    "        S.append(etat)\n",
    "        N-=1\n",
    "        \n",
    "    return S\n",
    "\n",
    "Pi,A = learnMarkovModel2(Xc,3)\n",
    "print(generate(Pi, A, 0))\n",
    "print(generate(Pi, A, 1))\n",
    "print(generate(Pi, A, 2))\n",
    "print(generate(Pi, A, 15))"
   ]
  },
  {
   "cell_type": "markdown",
   "metadata": {},
   "source": [
    "### E3. Affichage du résultat"
   ]
  },
  {
   "cell_type": "code",
   "execution_count": 26,
   "metadata": {},
   "outputs": [
    {
     "data": {
      "image/png": "[encoded data removed]",
      "text/plain": [
       "<Figure size 432x288 with 1 Axes>"
      ]
     },
     "metadata": {
      "needs_background": "light"
     },
     "output_type": "display_data"
    }
   ],
   "source": [
    "newa = generate(models[0][0], models[0][1], 20)       # generation d'une séquence d'états\n",
    "intervalle = 360. / d                                 # pour passer des états => valeur d'angles\n",
    "newa_continu = np.array([i * intervalle for i in newa]) # conv int => double\n",
    "tracerLettre(newa_continu)"
   ]
  }
 ],
 "metadata": {
  "kernelspec": {
   "display_name": "Python 3 (ipykernel)",
   "language": "python",
   "name": "python3"
  },
  "language_info": {
   "codemirror_mode": {
    "name": "ipython",
    "version": 3
   },
   "file_extension": ".py",
   "mimetype": "text/x-python",
   "name": "python",
   "nbconvert_exporter": "python",
   "pygments_lexer": "ipython3",
   "version": "3.9.2"
  }
 },
 "nbformat": 4,
 "nbformat_minor": 4
}
